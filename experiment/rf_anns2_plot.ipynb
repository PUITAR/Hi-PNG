{
 "cells": [
  {
   "cell_type": "code",
   "execution_count": 5,
   "id": "5b95e0f3",
   "metadata": {},
   "outputs": [
    {
     "data": {
      "image/png": "[encoded data removed]",
      "text/plain": [
       "<Figure size 400x200 with 1 Axes>"
      ]
     },
     "metadata": {},
     "output_type": "display_data"
    }
   ],
   "source": [
    "from function import pareto_frontier\n",
    "import json, os\n",
    "import matplotlib.pyplot as plt\n",
    "import numpy as np\n",
    "\n",
    "perf_output = \"perf/rf_anns\"\n",
    "\n",
    "dataset = 'sift-128-euclidean'\n",
    "\n",
    "perf1 = json.load(open(os.path.join(perf_output, f\"{dataset}.HNSW.json\")))\n",
    "perf2 = json.load(open(os.path.join(perf_output, f\"{dataset}.Hi-PNG-HNSW.json\")))\n",
    "perf1, perf2 = pareto_frontier(perf1, 0.3), pareto_frontier(perf2, 0.3)\n",
    "recall1, recall2 = [item[\"recall\"] for item in perf1], [item[\"recall\"] for item in perf2]\n",
    "qps1, qps2 = [item[\"qps\"] for item in perf1], [item[\"qps\"] for item in perf2]\n",
    "# iRangeGraph performance\n",
    "perf3 = np.loadtxt(\"perf/rf_anns2/sift-128-euclidean.iRangeGraph.csv\", delimiter=',')\n",
    "recall3, qps3 = perf3[:, 1].tolist(), perf3[:, 2].tolist()\n",
    "# Plot\n",
    "plt.figure(figsize=(4, 2))\n",
    "plt.plot(recall1, qps1, marker='s', color='tomato', linewidth=1.2, linestyle='dashed', markersize=3)\n",
    "plt.plot(recall2, qps2, marker='o', color='deepskyblue', linewidth=1.2, linestyle='dashed', markersize=3)\n",
    "plt.plot(recall3, qps3, marker='^', color='gold', linewidth=1.2, linestyle='dashed', markersize=3)\n",
    "plt.yscale('log')\n",
    "plt.xlabel('Recall@10', fontsize=14)\n",
    "plt.ylabel('QPS', fontsize=14) \n",
    "# plt.ticklabel_format(style='sci', axis='y', scilimits=(0,0))\n",
    "plt.grid(True)\n",
    "# plt.title(\"RF-ANNS vs IF-ANNS on SIFT1M\", loc='center', pad=50)\n",
    "plt.legend([\"HNSW\", \"Hi-PNG\", \"iRangeGraph\"],\n",
    "           frameon=False,\n",
    "           bbox_to_anchor=(0.5, 1.02),\n",
    "           loc='lower center',\n",
    "           ncol=3\n",
    "           )\n",
    "plt.tight_layout()\n",
    "plt.savefig(\"rfanns2.pdf\", bbox_inches='tight', dpi=300)\n"
   ]
  },
  {
   "cell_type": "code",
   "execution_count": 6,
   "id": "bf35f613",
   "metadata": {},
   "outputs": [
    {
     "name": "stdout",
     "output_type": "stream",
     "text": [
      "| Recall | Post-Filtering-HNSW QPS | Hi-PNG-HNSW QPS | iRangeGraph QPS |\n",
      "|--------|-------------------------|-----------------|-----------------|\n",
      "| 0.4 | 2274.16 | 159828.05 | 1706.59 |\n",
      "| 0.5 | 1873.77 | 106488.60 | 2260.09 |\n",
      "| 0.6 | 1473.37 | 53149.14 | 2813.59 |\n",
      "| 0.7 | 1072.98 | 21747.00 | 3367.10 |\n",
      "| 0.8 | 672.58 | 21578.31 | 3920.60 |\n",
      "| 0.9 | 272.19 | 13426.52 | 4317.19 |\n",
      "| 1.0 | -128.21 | -988.61 | 3021.33 |\n"
     ]
    }
   ],
   "source": [
    "from scipy.interpolate import interp1d\n",
    "\n",
    "# Create interpolation functions for each method\n",
    "f1 = interp1d(recall1, qps1, bounds_error=False, fill_value=\"extrapolate\")\n",
    "f2 = interp1d(recall2, qps2, bounds_error=False, fill_value=\"extrapolate\")\n",
    "f3 = interp1d(recall3, qps3, bounds_error=False, fill_value=\"extrapolate\")\n",
    "\n",
    "# Target recall values\n",
    "target_recalls = [0.4, 0.5, 0.6, 0.7, 0.8, 0.9, 1.0]\n",
    "\n",
    "# Calculate interpolated QPS values\n",
    "qps1_interp = f1(target_recalls)\n",
    "qps2_interp = f2(target_recalls)\n",
    "qps3_interp = f3(target_recalls)\n",
    "\n",
    "# Create and display markdown table\n",
    "print(\"| Recall | Post-Filtering-HNSW QPS | Hi-PNG-HNSW QPS | iRangeGraph QPS |\")\n",
    "print(\"|--------|-------------------------|-----------------|-----------------|\")\n",
    "for i, recall in enumerate(target_recalls):\n",
    "    print(f\"| {recall:.1f} | {qps1_interp[i]:.2f} | {qps2_interp[i]:.2f} | {qps3_interp[i]:.2f} |\")"
   ]
  }
 ],
 "metadata": {
  "kernelspec": {
   "display_name": "Hi-PNG",
   "language": "python",
   "name": "python3"
  },
  "language_info": {
   "codemirror_mode": {
    "name": "ipython",
    "version": 3
   },
   "file_extension": ".py",
   "mimetype": "text/x-python",
   "name": "python",
   "nbconvert_exporter": "python",
   "pygments_lexer": "ipython3",
   "version": "3.12.9"
  }
 },
 "nbformat": 4,
 "nbformat_minor": 5
}
