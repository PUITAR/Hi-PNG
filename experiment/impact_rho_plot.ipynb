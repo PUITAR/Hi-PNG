{
 "cells": [
  {
   "cell_type": "code",
   "execution_count": 2,
   "metadata": {},
   "outputs": [],
   "source": [
    "import matplotlib.pyplot as plt\n",
    "import numpy as np\n",
    "import json"
   ]
  },
  {
   "cell_type": "code",
   "execution_count": 3,
   "metadata": {},
   "outputs": [],
   "source": [
    "indices = ['hnsw', 'vamana', 'hcnng', 'nsg']\n",
    "colors = ['tomato', 'deepskyblue', 'forestgreen', 'PeachPuff']\n",
    "rhoes = [2.0**(0), 2**(-1), 2**(-2), 2**(-3), 2**(-4)]\n",
    "rho_map = {\n",
    "  2**(0): r'$2^0$',\n",
    "  2**(-1): r'$2^{-1}$',\n",
    "  2**(-2): r'$2^{-2}$',\n",
    "  2**(-3): r'$2^{-3}$',\n",
    "  2**(-4): r'$2^{-4}$'\n",
    "}\n",
    "dataset = 'sift-128-euclidean'"
   ]
  },
  {
   "cell_type": "code",
   "execution_count": null,
   "metadata": {},
   "outputs": [],
   "source": [
    "from function import pareto_frontier\n",
    "# from matplotlib.ticker import ScalarFormatter\n",
    "\n",
    "nrows = 1\n",
    "ncols = len(rhoes)\n",
    "\n",
    "fig, axes = plt.subplots(nrows=nrows, ncols=ncols, figsize=(14, 1.5))\n",
    "\n",
    "# for i in range(nrows):\n",
    "axes[0].set_ylabel('QPS', fontsize=14)\n",
    "# for i in range(num_datasets):\n",
    "for j in range(len(rhoes)):\n",
    "  rho = rhoes[j]\n",
    "  # ds = 'sift-128-euclidean'\n",
    "  for k in range(len(indices)):\n",
    "    index = indices[k]\n",
    "    recall_limit = 0.5\n",
    "    recall_gap = 0.1\n",
    "    with open(f\"perf/factor/rho/pf.{index}.{dataset}.uniform-0.0-1.0.uniform-0.0-{rho}.k10.json\", 'r') as file:\n",
    "      baseline = pareto_frontier(json.load(file), recall_limit)\n",
    "    with open(f\"perf/factor/rho/qt.{index}.{dataset}.uniform-0.0-1.0.uniform-0.0-{rho}.k10.json\", 'r') as file:\n",
    "      method = pareto_frontier(json.load(file), recall_limit)\n",
    "    # baseline = [(item['qps'], item['recall']) for item in baseline if item['recall'] > recall_limit]\n",
    "    # method = [(item['qps'], item['recall']) for item in method if item['recall'] > recall_limit]\n",
    "    axes[j].plot([item['recall'] for item in baseline], \n",
    "                                [item['qps'] for item in baseline], marker='s', \n",
    "                                  color=colors[k], linewidth=1.2, linestyle='dashed', markersize=3)\n",
    "    axes[j].plot([item['recall'] for item in method], \n",
    "                                [item['qps'] for item in method], marker='o', \n",
    "                                  color=colors[k], linewidth=1.2, markersize=3)\n",
    "  # if i == nrows - 1:\n",
    "  axes[j].set_xlabel(f'Recall@10', fontsize=14)\n",
    "  axes[j].set_xticks(np.arange(recall_limit, 1.001, recall_gap))\n",
    "  axes[j].set_yscale(\"log\", base=10)\n",
    "  # axes[j].yaxis.set_major_formatter(ScalarFormatter())\n",
    "  # axex[j].tick_params(axis='y', labelsize=10)\n",
    "  # axes[j].ticklabel_format(style='sci', axis='y', scilimits=(0,0))\n",
    "  axes[j].grid(True)\n",
    "  axes[j].set_title(f\"SIFT1M ({r'$\\rho=$' + f\"{rho_map[rho]}\"})\",fontsize=14)\n",
    "\n",
    "leg = list()\n",
    "for idx in indices:\n",
    "  if idx != 'vamana':\n",
    "    leg += [idx.upper(), 'Hi-PNG-'+(idx).upper()]\n",
    "  else:\n",
    "    leg += ['Vamana', ('Hi-PNG-Vamana')]\n",
    "\n",
    "fig.subplots_adjust(wspace=0.5, hspace=0.2)\n",
    "fig.legend(leg, loc='center', bbox_to_anchor=(0.51, 1.2), ncol=8, frameon=False, fontsize=14)\n",
    "fig.savefig(f'figure/factor/rho.pdf', dpi=300, bbox_inches='tight', pad_inches=0)\n",
    "fig.show()"
   ]
  }
 ],
 "metadata": {
  "kernelspec": {
   "display_name": "yangming",
   "language": "python",
   "name": "python3"
  },
  "language_info": {
   "codemirror_mode": {
    "name": "ipython",
    "version": 3
   },
   "file_extension": ".py",
   "mimetype": "text/x-python",
   "name": "python",
   "nbconvert_exporter": "python",
   "pygments_lexer": "ipython3",
   "version": "3.12.2"
  }
 },
 "nbformat": 4,
 "nbformat_minor": 2
}
