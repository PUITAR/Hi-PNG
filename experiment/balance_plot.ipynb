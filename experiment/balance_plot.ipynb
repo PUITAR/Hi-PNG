{
 "cells": [
  {
   "cell_type": "code",
   "execution_count": 1,
   "metadata": {},
   "outputs": [],
   "source": [
    "import matplotlib.pyplot as plt\n",
    "import numpy as np\n",
    "import json"
   ]
  },
  {
   "cell_type": "code",
   "execution_count": 2,
   "metadata": {},
   "outputs": [],
   "source": [
    "datasets = [\n",
    "  'glove-200-angular',\n",
    "  'gist-960-euclidean',\n",
    "  'sift-128-euclidean', \n",
    "  'fashion-mnist-784-euclidean', \n",
    "  'deep-image-96-angular',\n",
    "  'dbpedia-openai-1000k-angular',\n",
    "  'us-stock-384-euclidean',\n",
    "  'ucf-crime-4096-euclidean',\n",
    "]\n",
    "dataset_format = {\n",
    "  'glove-200-angular': 'GloVe',\n",
    "  'gist-960-euclidean': 'GIST1M',\n",
    "  'sift-128-euclidean': 'SIFT1M', \n",
    "  'fashion-mnist-784-euclidean': 'MNIST', \n",
    "  'deep-image-96-angular': 'DEEP1M',\n",
    "  'dbpedia-openai-1000k-angular': 'DBpedia-OpenAI',\n",
    "  'us-stock-384-euclidean': 'S&P 500',\n",
    "  'ucf-crime-4096-euclidean': 'UCF-Crime',\n",
    "}\n",
    "indices = [\n",
    "  'hnsw', \n",
    "  # 'vamana', 'hcnng', 'nsg'\n",
    "  ]\n",
    "colors = ['tomato', 'deepskyblue', 'forestgreen', 'PeachPuff']\n",
    "knn = 10\n",
    "num_datasets = len(datasets)\n",
    "num_indices = len(indices)"
   ]
  },
  {
   "cell_type": "code",
   "execution_count": null,
   "metadata": {},
   "outputs": [],
   "source": [
    "from function import pareto_frontier\n",
    "\n",
    "nrows = 1\n",
    "ncols = num_datasets // nrows\n",
    "\n",
    "fig, axes = plt.subplots(nrows=nrows, ncols=ncols, figsize=(18, 1.5))\n",
    "\n",
    "for i in range(nrows):\n",
    "  axes[0].set_ylabel('QPS', fontsize=14)\n",
    "for i in range(num_datasets):\n",
    "  ds = datasets[i]\n",
    "  for k in range(num_indices):\n",
    "    index = indices[k]\n",
    "    baseline_path = f\"perf/balance/qt.{index}.{ds}.uniform-0.0-1000.0.uniform-0.0-1000.0.k10.json\"  \\\n",
    "      if ds != 'us-stock-384-euclidean' \\\n",
    "      else f\"perf/balance/qt.{index}.{ds}...k10.json\"\n",
    "    method_path = f\"perf/overall/qt.{index}.{ds}.uniform-0.0-1.0.uniform-0.0-1.0.k10.json\"    \\\n",
    "      if ds != 'us-stock-384-euclidean' \\\n",
    "      else f\"perf/overall/qt.{index}.{ds}...k10.json\"\n",
    "    recall_limit = 0.5\n",
    "    recall_gap = 0.1\n",
    "    with open(baseline_path, 'r') as file:\n",
    "      baseline = pareto_frontier(json.load(file), recall_limit)\n",
    "    with open(method_path, 'r') as file:\n",
    "      method = pareto_frontier(json.load(file), recall_limit)\n",
    "    # baseline = [(item['qps'], item['recall']) for item in baseline if item['recall'] > recall_limit]\n",
    "    # method = [(item['qps'], item['recall']) for item in method if item['recall'] > recall_limit]\n",
    "    axes[i].plot([item['recall'] for item in baseline], \n",
    "                                 [item['qps'] for item in baseline], marker='s', \n",
    "                                  color=colors[0], linewidth=1.0, linestyle='dashed', markersize=3)\n",
    "    axes[i].plot([item['recall'] for item in method], \n",
    "                                 [item['qps'] for item in method], marker='o', \n",
    "                                  color=colors[1], linewidth=1.0, markersize=3)\n",
    "  if i//ncols == nrows - 1:\n",
    "    axes[i].set_xlabel(f'Recall@{knn}', fontsize=14)\n",
    "  axes[i].set_xticks(np.arange(recall_limit, 1.001, recall_gap))\n",
    "  # axes[i].ticklabel_format(style='sci', axis='y', scilimits=(0,0))\n",
    "  axes[i].set_yscale(\"log\", base=10)\n",
    "  axes[i].grid(True)\n",
    "  axes[i].set_title(dataset_format[ds], fontsize=14)\n",
    "\n",
    "leg = ['Partiton size balanced partitioning', 'Interval space balanced partitioning']\n",
    "\n",
    "fig.subplots_adjust(wspace=0.3, hspace=0.8)\n",
    "fig.legend(leg, loc='center', bbox_to_anchor=(0.51, 1.2), ncol=2, frameon=False, fontsize=14)\n",
    "fig.savefig(f'figure/balance.pdf', dpi=300, bbox_inches='tight', pad_inches=0)\n",
    "fig.show()"
   ]
  }
 ],
 "metadata": {
  "kernelspec": {
   "display_name": "yangming",
   "language": "python",
   "name": "python3"
  },
  "language_info": {
   "codemirror_mode": {
    "name": "ipython",
    "version": 3
   },
   "file_extension": ".py",
   "mimetype": "text/x-python",
   "name": "python",
   "nbconvert_exporter": "python",
   "pygments_lexer": "ipython3",
   "version": "3.12.2"
  }
 },
 "nbformat": 4,
 "nbformat_minor": 2
}
