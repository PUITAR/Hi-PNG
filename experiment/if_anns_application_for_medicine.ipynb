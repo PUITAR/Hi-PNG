{
 "cells": [
  {
   "cell_type": "code",
   "execution_count": 305,
   "id": "efd86f54",
   "metadata": {},
   "outputs": [],
   "source": [
    "import pandas as pd\n",
    "\n",
    "train = pd.read_csv(\"../data/covid19_epitope_prediction/input_bcell.csv\")\n",
    "test = pd.read_csv(\"../data/covid19_epitope_prediction/input_sars.csv\")"
   ]
  },
  {
   "cell_type": "code",
   "execution_count": 306,
   "id": "123b011c",
   "metadata": {},
   "outputs": [],
   "source": [
    "interval_fields = [\"start_position\", \"end_position\"]\n",
    "train_itv = train[interval_fields].values\n",
    "test_itv = test[interval_fields].values"
   ]
  },
  {
   "cell_type": "code",
   "execution_count": 307,
   "id": "562d68dd",
   "metadata": {},
   "outputs": [],
   "source": [
    "train_peptide_seq = train[\"peptide_seq\"]\n",
    "test_peptide_seq = test[\"peptide_seq\"]"
   ]
  },
  {
   "cell_type": "code",
   "execution_count": 308,
   "id": "23ee2635",
   "metadata": {},
   "outputs": [
    {
     "data": {
      "text/plain": [
       "(520, 7379)"
      ]
     },
     "execution_count": 308,
     "metadata": {},
     "output_type": "execute_result"
    }
   ],
   "source": [
    "from sklearn.feature_extraction.text import TfidfVectorizer\n",
    "\n",
    "def encode_protein_sequences(sequences, k=3):\n",
    "    vectorizer = TfidfVectorizer(analyzer='char', ngram_range=(k, k))\n",
    "    encoded = vectorizer.fit_transform(sequences)\n",
    "    return encoded.toarray(), vectorizer\n",
    "\n",
    "train_peptide_seq_data, vectorizer = encode_protein_sequences(train_peptide_seq)\n",
    "test_peptide_seq_data = vectorizer.transform(test_peptide_seq)\n",
    "test_peptide_seq_data = test_peptide_seq_data.toarray()\n",
    "test_peptide_seq_data.shape\n"
   ]
  },
  {
   "cell_type": "code",
   "execution_count": 309,
   "id": "83171f17",
   "metadata": {},
   "outputs": [],
   "source": [
    "nsample = 3\n",
    "topk = 3\n",
    "tidx = 10"
   ]
  },
  {
   "cell_type": "code",
   "execution_count": 310,
   "id": "1267e130",
   "metadata": {},
   "outputs": [],
   "source": [
    "import rtree\n",
    "import numpy as np\n",
    "\n",
    "rt_index = rtree.index.Index()\n",
    "for i, (l, r) in enumerate(train_itv):\n",
    "    # Insert with proper bounding box format: (minx, miny, maxx, maxy)\n",
    "    assert l <= r\n",
    "    rt_index.insert(i, (l, r, l, r))\n",
    "\n",
    "\n",
    "def evaluate(tidx):\n",
    "    l, r = test_itv[tidx]\n",
    "    inter = list(rt_index.intersection((l, l, r, r), objects=False))\n",
    "    idx = np.array([i for i in inter if (l <= train_itv[i][0] and train_itv[i][1] <= r)])\n",
    "    X_cand = train_peptide_seq_data[idx]\n",
    "    q = test_peptide_seq_data[tidx].reshape(1, -1)\n",
    "    # X_cand.shape, q.shape\n",
    "    dists = np.sum((X_cand - q)**2, axis=1)\n",
    "    topk_idx = np.argpartition(dists, topk)[:topk]\n",
    "    topk_idx = idx[topk_idx]\n",
    "    answer_peptide_seqs = train_peptide_seq[topk_idx].values\n",
    "    # eval\n",
    "    from difflib import SequenceMatcher\n",
    "    print(\"start_position:\", l)\n",
    "    print(\"end_position:\", r)\n",
    "    print(\"query petide seq:\", test_peptide_seq[tidx])\n",
    "    print(\"answer petide seqs:\", answer_peptide_seqs)\n",
    "    similarities = []\n",
    "    for ans_seq in answer_peptide_seqs:\n",
    "        similarity = SequenceMatcher(None, test_peptide_seq[tidx], ans_seq).ratio()\n",
    "        similarities.append(similarity)\n",
    "    print(\"similarities:\", similarities)\n",
    "    "
   ]
  },
  {
   "cell_type": "code",
   "execution_count": 312,
   "id": "bb47c448",
   "metadata": {},
   "outputs": [
    {
     "name": "stdout",
     "output_type": "stream",
     "text": [
      "start_position: 9\n",
      "end_position: 25\n",
      "query petide seq: TLTSGSDLDRCTTFDDV\n",
      "answer petide seqs: ['TSGSDLDRCTTFDDV' 'TNIILDLD' 'LDLDQEVK']\n",
      "similarities: [0.9375, 0.4, 0.4]\n"
     ]
    }
   ],
   "source": [
    "evaluate(4)"
   ]
  }
 ],
 "metadata": {
  "kernelspec": {
   "display_name": "Hi-PNG",
   "language": "python",
   "name": "python3"
  },
  "language_info": {
   "codemirror_mode": {
    "name": "ipython",
    "version": 3
   },
   "file_extension": ".py",
   "mimetype": "text/x-python",
   "name": "python",
   "nbconvert_exporter": "python",
   "pygments_lexer": "ipython3",
   "version": "3.12.9"
  }
 },
 "nbformat": 4,
 "nbformat_minor": 5
}
